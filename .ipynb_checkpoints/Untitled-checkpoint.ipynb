{
 "cells": [
  {
   "cell_type": "code",
   "execution_count": 1,
   "id": "4ed306d9-9403-4d3b-a874-9af5fb435d26",
   "metadata": {},
   "outputs": [],
   "source": [
    "import src.dna_rna_tools as dna_rna_tools\n",
    "import src.protein_tools as protein_tools\n",
    "import src.fastq_tools as fastq_tools\n",
    "\n",
    "\n",
    "def run_dna_rna_tools(*seqs: str, func: str) -> list[str]:\n",
    "    \"\"\"\n",
    "    Main function to process nucleotide sequences by one of the developed tools.\\n\n",
    "    Run one procedure at a time:\n",
    "    - Reverse the sequences from 5'-3' direction to 3'-5' and vice versa\n",
    "    - Output the complementary sequences\n",
    "    - Output the complementary sequences in reverse direction\n",
    "    - Translate RNA sequences to DNA and vice versa\n",
    "    - Count the GC-content in the sequences\n",
    "\n",
    "    Arguments:\n",
    "    - *seqs(str): sequences to process\n",
    "    - func(str): the operation of the interest:\n",
    "        - 'transcribe'\n",
    "        - 'reverse'\n",
    "        - 'complement'\n",
    "        - 'reverse_complement'\n",
    "        - 'gc_count'\n",
    "\n",
    "    All of the described func arguments correspond to following functions:\n",
    "    - transcribe(seq)\n",
    "    - reverse(seq)\n",
    "    - complement(seq)\n",
    "    - reverse_complement(seq)\n",
    "    - gc_count(seq: str, gc_counter=0)\n",
    "\n",
    "    All functions except *gc_count* are letter case sensitive\n",
    "\n",
    "    Return:\n",
    "    - list[str]: the result of processing several sequences\n",
    "    - str: the result of processing one sequence\n",
    "\n",
    "    For more details see README\n",
    "    \"\"\"\n",
    "    result = []\n",
    "    if func not in dna_rna_tools.FUNCTIONS_NA:\n",
    "        raise ValueError('Invalid operation!')\n",
    "    for seq in seqs:\n",
    "        if not (dna_rna_tools.is_dna(seq)) and not (dna_rna_tools.is_rna(seq)):\n",
    "            number_seq = seqs.index(seq) + 1\n",
    "            error = 'Sequence of number ' + str(number_seq) + ' is incorrect!'\n",
    "            raise ValueError(error)\n",
    "        result.append(dna_rna_tools.FUNCTIONS_NA[func](seq))\n",
    "    if len(result) == 1:\n",
    "        return result[0]\n",
    "    return result\n",
    "\n",
    "\n",
    "def run_protein_tools(*sequences: str, **kwargs: str):\n",
    "    \"\"\"\n",
    "    Main function to process protein sequence by one of the developed tools.\\n\n",
    "    Run one procedure at a time:\n",
    "    - Search for conserved amino acids residues in protein sequence\n",
    "    - Search for alternative frames in a protein sequences\n",
    "    - Convert protein sequences to RNA or DNA sequences\n",
    "    - Reverse the protein sequences from one-letter to three-letter format and vice-versa\n",
    "    - Define molecular weight of the protein sequences\n",
    "\n",
    "    All functions except *search_for_alt_frames* are letter case sensitive\\n\n",
    "    Provide protein sequence in one letter code.\\n\n",
    "    You can obtain one letter code from three letter code with *three_one_letter_code*\\n\n",
    "    If more information needed please see README or desired docstring\n",
    "\n",
    "    Arguments:\n",
    "    - sequences (str): sequences to process\n",
    "    - procedure (str): desired procedure:\n",
    "        - 'search_for_motifs'\n",
    "        - 'search_for_alt_frames'\n",
    "        - 'convert_to_nucl_acids'\n",
    "        - 'three_one_letter_code'\n",
    "        - 'define_molecular_weight'\n",
    "\n",
    "    For 'search_for_motif' procedure provide:\n",
    "    - motif (str]: desired motif to check presense in every given sequence\\n\n",
    "            Example: motif='GA'\n",
    "    - overlapping (bool): count (True) or skip (False) overlapping matches. (Optional)\\n\n",
    "            Example: overlapping =False\n",
    "\n",
    "    For 'search_for_alt_frames' procedure provide:\n",
    "    - alt_start_aa (str]: the name of an amino acid that is encoded by alternative start codon (Optional)\\n\n",
    "            Example: alt_start_aa='I'\n",
    "\n",
    "    For 'convert_to_nucl_acids' procedure provide:\n",
    "    - nucl_acids (str]: the nucleic acid to convert to\\n\n",
    "            Example: nucl_acids='RNA'\\n\n",
    "                           nucl_acids='DNA'\\n\n",
    "                           nucl_acids='both'\n",
    "\n",
    "    Return:\n",
    "    - dict: Dictionary with processed sequences. Depends on desired tool\\n\n",
    "            Please see Readme or desired docstring\n",
    "    \"\"\"\n",
    "    procedure_arguments, procedure = protein_tools.check_and_parse_user_input(*sequences, **kwargs)\n",
    "    return protein_tools.PROCEDURES_TO_FUNCTIONS[procedure](**procedure_arguments)\n",
    "\n",
    "\n",
    "def select_fastq(seqs: dict, gc_bounds=(0, 100), length_bounds=(0, 2 ** 32), quality_threshold=0) -> dict:\n",
    "    \"\"\"\n",
    "    Main function to select fragmnets in FASTQ format according to three main requirements:\\n\n",
    "    -fall in the range of GC-content bounds\n",
    "   The range of GC-content bounds is determined with gc_bounds argument\n",
    "   \n",
    "    -falls in the range of length bounds\n",
    "    The range of length bounds is determined with length_bounds argument\n",
    "\n",
    "    -exceeds the quality threshold of the interest\n",
    "    The quality threshold is determined with quality_threshold argument\n",
    "\n",
    "    Without full names use arguments in a certain order\n",
    "    Example: select_fastq(seqs, (0,100), (0,200), 0)\n",
    "           # select_fastq(seqs, gc_bounds=(0,100), length_bounds=(0,200), quality_threshold=0)\n",
    "             \n",
    "             \n",
    "    In case of changing only one argument, provide its full name!\n",
    "    Example: select_fastq(seqs, length_bounds=(50, 100))\n",
    "\n",
    "             \n",
    "    Arguments:\n",
    "    \n",
    "    - seqs (dict): the set of fragments to be analyzed\n",
    "    Example: {'name' : ('sequence', 'quality values')}\n",
    "\n",
    "    - gc_bounds(tuple or int or float): contain minimal and maximum GC-content bounds\n",
    "    By default gc_bounds=(0,100)\n",
    "    If input contains one number the function accepts it as a maximum bound\n",
    "    Examples: gc_bounds=(20,40)\n",
    "              gc_bounds=40  # (0,40)\n",
    "\n",
    "    - length_bounds(tuple or int or float): contain minimal and maximum length bounds\n",
    "    By default length_bounds=(0,4294967296)\n",
    "    If input contains one number the function accepts it as a maximum bound\n",
    "    Examples: length_bounds=(10,90)\n",
    "              length_bounds=90  # (0,90)\n",
    "\n",
    "    - quality_threshold(int or float): the quality threshold of the interest\n",
    "    By default quality_threshold=0\n",
    "    Examples: quality_threshold=10\n",
    "\n",
    "    There are three functions that are used in the main function:\n",
    "    \n",
    "    - is_in_gc_bounds(seq, gc_bounds): \n",
    "    Check if the sequence falls in the range of GC-content bounds\n",
    "    \n",
    "    - is_in_length_bounds(seq, length_bounds): \n",
    "    Check if the sequence falls in the range of length bounds\n",
    "    \n",
    "    - is_above_quality_threshold(quality_scores, quality_threshold): \n",
    "    Check if the mean of quality values exceeds the quality threshold\n",
    "    \n",
    "    Return:\n",
    "    - dict: Dictionary with selected fragments\n",
    "    \n",
    "    For more information please see README\n",
    "    \n",
    "    \"\"\"\n",
    "    if type(length_bounds) == int or type(length_bounds) == float:\n",
    "        length_bounds = 0, length_bounds\n",
    "    if type(gc_bounds) == int or type(gc_bounds) == float:\n",
    "        gc_bounds = 0, gc_bounds\n",
    "    result = {}\n",
    "    for name in seqs.keys():\n",
    "        seq = seqs[name][0]\n",
    "        quality_scores = seqs[name][1]\n",
    "        if (\n",
    "                fastq_tools.is_in_gc_bounds(seq, gc_bounds) and\n",
    "                fastq_tools.is_in_length_bounds(seq, length_bounds) and\n",
    "                fastq_tools.is_above_quality_threshold(quality_scores, quality_threshold)):\n",
    "            result[name] = seqs[name]\n",
    "    if len(result) == 0:\n",
    "        return 'There are no sequences suited to requirements'\n",
    "    return result\n"
   ]
  },
  {
   "cell_type": "code",
   "execution_count": 9,
   "id": "8f8efade-ecf3-4d80-a385-d28fba14370b",
   "metadata": {},
   "outputs": [
    {
     "data": {
      "text/plain": [
       "['AGCT', 'TTTTAGCA']"
      ]
     },
     "execution_count": 9,
     "metadata": {},
     "output_type": "execute_result"
    }
   ],
   "source": [
    "# Делаю проверку всего кода на инструментах ДНК, РНК\n",
    "run_dna_rna_tools ('AGCT', 'TGCTAAAA', func='reverse_complement')"
   ]
  },
  {
   "cell_type": "code",
   "execution_count": 16,
   "id": "6d4421df-8b89-4318-8ba9-63faeb2f01fc",
   "metadata": {},
   "outputs": [
    {
     "data": {
      "text/plain": [
       "'AGCT'"
      ]
     },
     "execution_count": 16,
     "metadata": {},
     "output_type": "execute_result"
    }
   ],
   "source": [
    "run_dna_rna_tools ('AGCT', func='reverse_complement')"
   ]
  },
  {
   "cell_type": "code",
   "execution_count": 8,
   "id": "40e777e6-78e5-48b3-bf0c-ffe658062090",
   "metadata": {},
   "outputs": [
    {
     "data": {
      "text/plain": [
       "['50.0%', '25.0%']"
      ]
     },
     "execution_count": 8,
     "metadata": {},
     "output_type": "execute_result"
    }
   ],
   "source": [
    "run_dna_rna_tools ('AGCT', 'TGCTAAAA', func='gc_count')"
   ]
  },
  {
   "cell_type": "code",
   "execution_count": 20,
   "id": "873a5f41-4c87-493a-85ff-e8b4dc42a5d4",
   "metadata": {},
   "outputs": [
    {
     "data": {
      "text/plain": [
       "'50.0%'"
      ]
     },
     "execution_count": 20,
     "metadata": {},
     "output_type": "execute_result"
    }
   ],
   "source": [
    "run_dna_rna_tools ('AGCT', func='gc_count')"
   ]
  },
  {
   "cell_type": "code",
   "execution_count": null,
   "id": "a5fef111-fd65-4359-a77b-6bae8379922b",
   "metadata": {},
   "outputs": [],
   "source": [
    "# Делаю проверку с протеинами"
   ]
  },
  {
   "cell_type": "code",
   "execution_count": 7,
   "id": "4bd92f8f-0e81-4a56-8dfe-e9d06865028e",
   "metadata": {},
   "outputs": [
    {
     "data": {
      "text/plain": [
       "{'MRR': 461.61}"
      ]
     },
     "execution_count": 7,
     "metadata": {},
     "output_type": "execute_result"
    }
   ],
   "source": [
    "run_protein_tools('MRR', procedure = 'define_molecular_weight')"
   ]
  },
  {
   "cell_type": "code",
   "execution_count": 22,
   "id": "cb9b99c7-3fc7-434a-9882-344671de3fdd",
   "metadata": {},
   "outputs": [
    {
     "data": {
      "text/plain": [
       "{'MRR': 461.61, 'REWQ': 617.71}"
      ]
     },
     "execution_count": 22,
     "metadata": {},
     "output_type": "execute_result"
    }
   ],
   "source": [
    "run_protein_tools('MRR', 'REWQ', procedure = 'define_molecular_weight')"
   ]
  },
  {
   "cell_type": "code",
   "execution_count": 2,
   "id": "c400c9a6-99cc-4fd9-9522-8279e6faf67d",
   "metadata": {},
   "outputs": [
    {
     "ename": "ValueError",
     "evalue": "Use three-letter aa only for \"three_one_letter_code\" procedure!",
     "output_type": "error",
     "traceback": [
      "\u001b[0;31m---------------------------------------------------------------------------\u001b[0m",
      "\u001b[0;31mValueError\u001b[0m                                Traceback (most recent call last)",
      "Cell \u001b[0;32mIn[2], line 1\u001b[0m\n\u001b[0;32m----> 1\u001b[0m \u001b[43mrun_protein_tools\u001b[49m\u001b[43m(\u001b[49m\u001b[38;5;124;43m'\u001b[39;49m\u001b[38;5;124;43mMet-Met\u001b[39;49m\u001b[38;5;124;43m'\u001b[39;49m\u001b[43m,\u001b[49m\u001b[43m \u001b[49m\u001b[38;5;124;43m'\u001b[39;49m\u001b[38;5;124;43mREWQ\u001b[39;49m\u001b[38;5;124;43m'\u001b[39;49m\u001b[43m,\u001b[49m\u001b[43m \u001b[49m\u001b[43mprocedure\u001b[49m\u001b[43m \u001b[49m\u001b[38;5;241;43m=\u001b[39;49m\u001b[43m \u001b[49m\u001b[38;5;124;43m'\u001b[39;49m\u001b[38;5;124;43mdefine_molecular_weight\u001b[39;49m\u001b[38;5;124;43m'\u001b[39;49m\u001b[43m)\u001b[49m\n",
      "Cell \u001b[0;32mIn[1], line 98\u001b[0m, in \u001b[0;36mrun_protein_tools\u001b[0;34m(*sequences, **kwargs)\u001b[0m\n\u001b[1;32m     54\u001b[0m \u001b[38;5;28;01mdef\u001b[39;00m \u001b[38;5;21mrun_protein_tools\u001b[39m(\u001b[38;5;241m*\u001b[39msequences: \u001b[38;5;28mstr\u001b[39m, \u001b[38;5;241m*\u001b[39m\u001b[38;5;241m*\u001b[39mkwargs: \u001b[38;5;28mstr\u001b[39m):\n\u001b[1;32m     55\u001b[0m \u001b[38;5;250m    \u001b[39m\u001b[38;5;124;03m\"\"\"\u001b[39;00m\n\u001b[1;32m     56\u001b[0m \u001b[38;5;124;03m    Main function to process protein sequence by one of the developed tools.\\n\u001b[39;00m\n\u001b[1;32m     57\u001b[0m \u001b[38;5;124;03m    Run one procedure at a time:\u001b[39;00m\n\u001b[0;32m   (...)\u001b[0m\n\u001b[1;32m     96\u001b[0m \u001b[38;5;124;03m            Please see Readme or desired docstring\u001b[39;00m\n\u001b[1;32m     97\u001b[0m \u001b[38;5;124;03m    \"\"\"\u001b[39;00m\n\u001b[0;32m---> 98\u001b[0m     procedure_arguments, procedure \u001b[38;5;241m=\u001b[39m \u001b[43mprotein_tools\u001b[49m\u001b[38;5;241;43m.\u001b[39;49m\u001b[43mcheck_and_parse_user_input\u001b[49m\u001b[43m(\u001b[49m\u001b[38;5;241;43m*\u001b[39;49m\u001b[43msequences\u001b[49m\u001b[43m,\u001b[49m\u001b[43m \u001b[49m\u001b[38;5;241;43m*\u001b[39;49m\u001b[38;5;241;43m*\u001b[39;49m\u001b[43mkwargs\u001b[49m\u001b[43m)\u001b[49m\n\u001b[1;32m     99\u001b[0m     \u001b[38;5;28;01mreturn\u001b[39;00m protein_tools\u001b[38;5;241m.\u001b[39mPROCEDURES_TO_FUNCTIONS[procedure](\u001b[38;5;241m*\u001b[39m\u001b[38;5;241m*\u001b[39mprocedure_arguments)\n",
      "File \u001b[0;32m~/python/Bioinformatics_starter_pack/src/protein_tools.py:324\u001b[0m, in \u001b[0;36mcheck_and_parse_user_input\u001b[0;34m(*sequences, **kwargs)\u001b[0m\n\u001b[1;32m    322\u001b[0m \u001b[38;5;28;01melse\u001b[39;00m:\n\u001b[1;32m    323\u001b[0m     \u001b[38;5;28;01mif\u001b[39;00m procedure \u001b[38;5;241m!=\u001b[39m \u001b[38;5;124m'\u001b[39m\u001b[38;5;124mthree_one_letter_code\u001b[39m\u001b[38;5;124m'\u001b[39m:\n\u001b[0;32m--> 324\u001b[0m         \u001b[38;5;28;01mraise\u001b[39;00m \u001b[38;5;167;01mValueError\u001b[39;00m(\u001b[38;5;124m'\u001b[39m\u001b[38;5;124mUse three-letter aa only for \u001b[39m\u001b[38;5;124m\"\u001b[39m\u001b[38;5;124mthree_one_letter_code\u001b[39m\u001b[38;5;124m\"\u001b[39m\u001b[38;5;124m procedure!\u001b[39m\u001b[38;5;124m'\u001b[39m)\n\u001b[1;32m    325\u001b[0m     \u001b[38;5;28;01mif\u001b[39;00m \u001b[38;5;129;01mnot\u001b[39;00m \u001b[38;5;28mset\u001b[39m(sequence\u001b[38;5;241m.\u001b[39msplit(\u001b[38;5;124m'\u001b[39m\u001b[38;5;124m-\u001b[39m\u001b[38;5;124m'\u001b[39m))\u001b[38;5;241m.\u001b[39missubset(allowed_inputs):\n\u001b[1;32m    326\u001b[0m         \u001b[38;5;28;01mraise\u001b[39;00m \u001b[38;5;167;01mValueError\u001b[39;00m(\u001b[38;5;124m'\u001b[39m\u001b[38;5;124mInvalid sequence given\u001b[39m\u001b[38;5;124m'\u001b[39m)\n",
      "\u001b[0;31mValueError\u001b[0m: Use three-letter aa only for \"three_one_letter_code\" procedure!"
     ]
    }
   ],
   "source": [
    "run_protein_tools('Met-Met', 'REWQ', procedure = 'define_molecular_weight')"
   ]
  },
  {
   "cell_type": "code",
   "execution_count": 11,
   "id": "c49ef1bf-623d-406b-95c2-65b368408784",
   "metadata": {},
   "outputs": [
    {
     "ename": "ValueError",
     "evalue": "Please provide desired motif",
     "output_type": "error",
     "traceback": [
      "\u001b[0;31m---------------------------------------------------------------------------\u001b[0m",
      "\u001b[0;31mValueError\u001b[0m                                Traceback (most recent call last)",
      "Cell \u001b[0;32mIn[11], line 1\u001b[0m\n\u001b[0;32m----> 1\u001b[0m \u001b[43mrun_protein_tools\u001b[49m\u001b[43m(\u001b[49m\u001b[38;5;124;43m'\u001b[39;49m\u001b[38;5;124;43mVVVMRRVVV\u001b[39;49m\u001b[38;5;124;43m'\u001b[39;49m\u001b[43m,\u001b[49m\u001b[43m \u001b[49m\u001b[38;5;124;43m'\u001b[39;49m\u001b[38;5;124;43mREWQ\u001b[39;49m\u001b[38;5;124;43m'\u001b[39;49m\u001b[43m,\u001b[49m\u001b[43m \u001b[49m\u001b[43mprocedure\u001b[49m\u001b[43m \u001b[49m\u001b[38;5;241;43m=\u001b[39;49m\u001b[43m \u001b[49m\u001b[38;5;124;43m'\u001b[39;49m\u001b[38;5;124;43msearch_for_motifs\u001b[39;49m\u001b[38;5;124;43m'\u001b[39;49m\u001b[43m)\u001b[49m\n",
      "Cell \u001b[0;32mIn[1], line 98\u001b[0m, in \u001b[0;36mrun_protein_tools\u001b[0;34m(*sequences, **kwargs)\u001b[0m\n\u001b[1;32m     54\u001b[0m \u001b[38;5;28;01mdef\u001b[39;00m \u001b[38;5;21mrun_protein_tools\u001b[39m(\u001b[38;5;241m*\u001b[39msequences: \u001b[38;5;28mstr\u001b[39m, \u001b[38;5;241m*\u001b[39m\u001b[38;5;241m*\u001b[39mkwargs: \u001b[38;5;28mstr\u001b[39m):\n\u001b[1;32m     55\u001b[0m \u001b[38;5;250m    \u001b[39m\u001b[38;5;124;03m\"\"\"\u001b[39;00m\n\u001b[1;32m     56\u001b[0m \u001b[38;5;124;03m    Main function to process protein sequence by one of the developed tools.\\n\u001b[39;00m\n\u001b[1;32m     57\u001b[0m \u001b[38;5;124;03m    Run one procedure at a time:\u001b[39;00m\n\u001b[0;32m   (...)\u001b[0m\n\u001b[1;32m     96\u001b[0m \u001b[38;5;124;03m            Please see Readme or desired docstring\u001b[39;00m\n\u001b[1;32m     97\u001b[0m \u001b[38;5;124;03m    \"\"\"\u001b[39;00m\n\u001b[0;32m---> 98\u001b[0m     procedure_arguments, procedure \u001b[38;5;241m=\u001b[39m \u001b[43mprotein_tools\u001b[49m\u001b[38;5;241;43m.\u001b[39;49m\u001b[43mcheck_and_parse_user_input\u001b[49m\u001b[43m(\u001b[49m\u001b[38;5;241;43m*\u001b[39;49m\u001b[43msequences\u001b[49m\u001b[43m,\u001b[49m\u001b[43m \u001b[49m\u001b[38;5;241;43m*\u001b[39;49m\u001b[38;5;241;43m*\u001b[39;49m\u001b[43mkwargs\u001b[49m\u001b[43m)\u001b[49m\n\u001b[1;32m     99\u001b[0m     \u001b[38;5;28;01mreturn\u001b[39;00m protein_tools\u001b[38;5;241m.\u001b[39mPROCEDURES_TO_FUNCTIONS[procedure](\u001b[38;5;241m*\u001b[39m\u001b[38;5;241m*\u001b[39mprocedure_arguments)\n",
      "File \u001b[0;32m~/python/Bioinformatics_starter_pack/src/protein_tools.py:330\u001b[0m, in \u001b[0;36mcheck_and_parse_user_input\u001b[0;34m(*sequences, **kwargs)\u001b[0m\n\u001b[1;32m    328\u001b[0m \u001b[38;5;28;01mif\u001b[39;00m procedure \u001b[38;5;241m==\u001b[39m \u001b[38;5;124m'\u001b[39m\u001b[38;5;124msearch_for_motifs\u001b[39m\u001b[38;5;124m'\u001b[39m:\n\u001b[1;32m    329\u001b[0m     \u001b[38;5;28;01mif\u001b[39;00m \u001b[38;5;124m'\u001b[39m\u001b[38;5;124mmotif\u001b[39m\u001b[38;5;124m'\u001b[39m \u001b[38;5;129;01mnot\u001b[39;00m \u001b[38;5;129;01min\u001b[39;00m kwargs\u001b[38;5;241m.\u001b[39mkeys():\n\u001b[0;32m--> 330\u001b[0m         \u001b[38;5;28;01mraise\u001b[39;00m \u001b[38;5;167;01mValueError\u001b[39;00m(\u001b[38;5;124m'\u001b[39m\u001b[38;5;124mPlease provide desired motif\u001b[39m\u001b[38;5;124m'\u001b[39m)\n\u001b[1;32m    331\u001b[0m     procedure_arguments[\u001b[38;5;124m'\u001b[39m\u001b[38;5;124mmotif\u001b[39m\u001b[38;5;124m'\u001b[39m] \u001b[38;5;241m=\u001b[39m kwargs[\u001b[38;5;124m'\u001b[39m\u001b[38;5;124mmotif\u001b[39m\u001b[38;5;124m'\u001b[39m]\n\u001b[1;32m    332\u001b[0m     \u001b[38;5;28;01mif\u001b[39;00m \u001b[38;5;124m'\u001b[39m\u001b[38;5;124moverlapping\u001b[39m\u001b[38;5;124m'\u001b[39m \u001b[38;5;129;01mnot\u001b[39;00m \u001b[38;5;129;01min\u001b[39;00m kwargs\u001b[38;5;241m.\u001b[39mkeys():\n",
      "\u001b[0;31mValueError\u001b[0m: Please provide desired motif"
     ]
    }
   ],
   "source": [
    "run_protein_tools('VVVMRRVVV', 'REWQ', procedure = 'search_for_motifs')"
   ]
  },
  {
   "cell_type": "code",
   "execution_count": 4,
   "id": "14eb4c92-0047-4199-8fcd-71f369e54272",
   "metadata": {},
   "outputs": [
    {
     "ename": "ValueError",
     "evalue": "Invalid alternative start AA",
     "output_type": "error",
     "traceback": [
      "\u001b[0;31m---------------------------------------------------------------------------\u001b[0m",
      "\u001b[0;31mValueError\u001b[0m                                Traceback (most recent call last)",
      "Cell \u001b[0;32mIn[4], line 1\u001b[0m\n\u001b[0;32m----> 1\u001b[0m \u001b[43mrun_protein_tools\u001b[49m\u001b[43m(\u001b[49m\u001b[38;5;124;43m\"\u001b[39;49m\u001b[38;5;124;43mMNYQTSTPYYdmiDYGTSEPCQKVNVRQ\u001b[39;49m\u001b[38;5;124;43m\"\u001b[39;49m\u001b[43m,\u001b[49m\u001b[38;5;124;43m\"\u001b[39;49m\u001b[38;5;124;43mIAARLLPPLYMTDIYLLNLAISDLLFL\u001b[39;49m\u001b[38;5;124;43m\"\u001b[39;49m\u001b[43m,\u001b[49m\u001b[43m \u001b[49m\u001b[43mprocedure\u001b[49m\u001b[43m \u001b[49m\u001b[38;5;241;43m=\u001b[39;49m\u001b[43m \u001b[49m\u001b[38;5;124;43m'\u001b[39;49m\u001b[38;5;124;43msearch_for_alt_frames\u001b[39;49m\u001b[38;5;124;43m'\u001b[39;49m\u001b[43m,\u001b[49m\u001b[43m \u001b[49m\u001b[43malt_start_aa\u001b[49m\u001b[43m \u001b[49m\u001b[38;5;241;43m=\u001b[39;49m\u001b[43m \u001b[49m\u001b[38;5;124;43m'\u001b[39;49m\u001b[38;5;124;43mIT\u001b[39;49m\u001b[38;5;124;43m'\u001b[39;49m\u001b[43m)\u001b[49m\n",
      "Cell \u001b[0;32mIn[1], line 98\u001b[0m, in \u001b[0;36mrun_protein_tools\u001b[0;34m(*sequences, **kwargs)\u001b[0m\n\u001b[1;32m     54\u001b[0m \u001b[38;5;28;01mdef\u001b[39;00m \u001b[38;5;21mrun_protein_tools\u001b[39m(\u001b[38;5;241m*\u001b[39msequences: \u001b[38;5;28mstr\u001b[39m, \u001b[38;5;241m*\u001b[39m\u001b[38;5;241m*\u001b[39mkwargs: \u001b[38;5;28mstr\u001b[39m):\n\u001b[1;32m     55\u001b[0m \u001b[38;5;250m    \u001b[39m\u001b[38;5;124;03m\"\"\"\u001b[39;00m\n\u001b[1;32m     56\u001b[0m \u001b[38;5;124;03m    Main function to process protein sequence by one of the developed tools.\\n\u001b[39;00m\n\u001b[1;32m     57\u001b[0m \u001b[38;5;124;03m    Run one procedure at a time:\u001b[39;00m\n\u001b[0;32m   (...)\u001b[0m\n\u001b[1;32m     96\u001b[0m \u001b[38;5;124;03m            Please see Readme or desired docstring\u001b[39;00m\n\u001b[1;32m     97\u001b[0m \u001b[38;5;124;03m    \"\"\"\u001b[39;00m\n\u001b[0;32m---> 98\u001b[0m     procedure_arguments, procedure \u001b[38;5;241m=\u001b[39m \u001b[43mprotein_tools\u001b[49m\u001b[38;5;241;43m.\u001b[39;49m\u001b[43mcheck_and_parse_user_input\u001b[49m\u001b[43m(\u001b[49m\u001b[38;5;241;43m*\u001b[39;49m\u001b[43msequences\u001b[49m\u001b[43m,\u001b[49m\u001b[43m \u001b[49m\u001b[38;5;241;43m*\u001b[39;49m\u001b[38;5;241;43m*\u001b[39;49m\u001b[43mkwargs\u001b[49m\u001b[43m)\u001b[49m\n\u001b[1;32m     99\u001b[0m     \u001b[38;5;28;01mreturn\u001b[39;00m protein_tools\u001b[38;5;241m.\u001b[39mPROCEDURES_TO_FUNCTIONS[procedure](\u001b[38;5;241m*\u001b[39m\u001b[38;5;241m*\u001b[39mprocedure_arguments)\n",
      "File \u001b[0;32m~/python/Bioinformatics_starter_pack/src/protein_tools.py:341\u001b[0m, in \u001b[0;36mcheck_and_parse_user_input\u001b[0;34m(*sequences, **kwargs)\u001b[0m\n\u001b[1;32m    339\u001b[0m     \u001b[38;5;28;01melse\u001b[39;00m:\n\u001b[1;32m    340\u001b[0m         \u001b[38;5;28;01mif\u001b[39;00m \u001b[38;5;28mlen\u001b[39m(kwargs[\u001b[38;5;124m'\u001b[39m\u001b[38;5;124malt_start_aa\u001b[39m\u001b[38;5;124m'\u001b[39m]) \u001b[38;5;241m>\u001b[39m \u001b[38;5;241m1\u001b[39m:\n\u001b[0;32m--> 341\u001b[0m             \u001b[38;5;28;01mraise\u001b[39;00m \u001b[38;5;167;01mValueError\u001b[39;00m(\u001b[38;5;124m'\u001b[39m\u001b[38;5;124mInvalid alternative start AA\u001b[39m\u001b[38;5;124m'\u001b[39m)\n\u001b[1;32m    342\u001b[0m         procedure_arguments[\u001b[38;5;124m'\u001b[39m\u001b[38;5;124malt_start_aa\u001b[39m\u001b[38;5;124m'\u001b[39m] \u001b[38;5;241m=\u001b[39m kwargs[\u001b[38;5;124m'\u001b[39m\u001b[38;5;124malt_start_aa\u001b[39m\u001b[38;5;124m'\u001b[39m]\n\u001b[1;32m    343\u001b[0m \u001b[38;5;28;01melif\u001b[39;00m procedure \u001b[38;5;241m==\u001b[39m \u001b[38;5;124m'\u001b[39m\u001b[38;5;124mconvert_to_nucl_acids\u001b[39m\u001b[38;5;124m'\u001b[39m:\n",
      "\u001b[0;31mValueError\u001b[0m: Invalid alternative start AA"
     ]
    }
   ],
   "source": [
    "run_protein_tools(\"MNYQTSTPYYdmiDYGTSEPCQKVNVRQ\",\"IAARLLPPLYMTDIYLLNLAISDLLFL\", procedure = 'search_for_alt_frames', alt_start_aa = 'IT')"
   ]
  },
  {
   "cell_type": "code",
   "execution_count": 6,
   "id": "c7a2e9fb-c0e0-44ad-942f-b8688d8ebb92",
   "metadata": {},
   "outputs": [
    {
     "data": {
      "text/plain": [
       "{'MNYQTSTPYYdmiDYGTSEPCQKVNVRQ': ['TSTPYYdmiDYGTSEPCQKVNVRQ',\n",
       "  'TPYYdmiDYGTSEPCQKVNVRQ',\n",
       "  'TSEPCQKVNVRQ'],\n",
       " 'IAARLLPPLYMTDIYLLNLAISDLLFL': ['TDIYLLNLAISDLLFL']}"
      ]
     },
     "execution_count": 6,
     "metadata": {},
     "output_type": "execute_result"
    }
   ],
   "source": [
    "run_protein_tools(\"MNYQTSTPYYdmiDYGTSEPCQKVNVRQ\",\"IAARLLPPLYMTDIYLLNLAISDLLFL\", procedure = 'search_for_alt_frames', alt_start_aa = 'T')"
   ]
  },
  {
   "cell_type": "code",
   "execution_count": 7,
   "id": "e9eb7902-14c3-4c1d-bea2-8194dc28a64e",
   "metadata": {},
   "outputs": [
    {
     "data": {
      "text/plain": [
       "{'MNYQTSTPYYdmiDYGTSEPCQKVNVRQ': ['miDYGTSEPCQKVNVRQ'],\n",
       " 'IAARLLPPLYMTDIYLLNLAISDLLFL': ['MTDIYLLNLAISDLLFL']}"
      ]
     },
     "execution_count": 7,
     "metadata": {},
     "output_type": "execute_result"
    }
   ],
   "source": [
    "run_protein_tools(\"MNYQTSTPYYdmiDYGTSEPCQKVNVRQ\",\"IAARLLPPLYMTDIYLLNLAISDLLFL\", procedure = 'search_for_alt_frames')"
   ]
  },
  {
   "cell_type": "code",
   "execution_count": 5,
   "id": "e7dc8bc4-832d-4e5c-add6-5b13ea782435",
   "metadata": {},
   "outputs": [
    {
     "data": {
      "text/plain": [
       "{'RNA': [],\n",
       " 'DNA': ['atgAACTATCAGACCAGCACCCCGTATTATGATATGATTgattatGGCACCAGCGAACCGTGCCAGAAAGTGAACGTGCGTCAG',\n",
       "  'ATTGCGGCGCGTCTGCTGCCGCCGCTGTATATGACCGATATTTATCTGCTGAACCTGGCGATTAGCGATCTGCTGTTTCTG']}"
      ]
     },
     "execution_count": 5,
     "metadata": {},
     "output_type": "execute_result"
    }
   ],
   "source": [
    "run_protein_tools('mNYQTSTPYYDMIdyGTSEPCQKVNVRQ','IAARLLPPLYMTDIYLLNLAISDLLFL', procedure = 'convert_to_nucl_acids', nucl_acids = 'DNA')"
   ]
  },
  {
   "cell_type": "code",
   "execution_count": 12,
   "id": "17c6eecd-ab7a-4618-b5cd-010a9111c33f",
   "metadata": {},
   "outputs": [
    {
     "ename": "ValueError",
     "evalue": "Invalid nucl_acids argument",
     "output_type": "error",
     "traceback": [
      "\u001b[0;31m---------------------------------------------------------------------------\u001b[0m",
      "\u001b[0;31mValueError\u001b[0m                                Traceback (most recent call last)",
      "Cell \u001b[0;32mIn[12], line 1\u001b[0m\n\u001b[0;32m----> 1\u001b[0m \u001b[43mrun_protein_tools\u001b[49m\u001b[43m(\u001b[49m\u001b[38;5;124;43m'\u001b[39;49m\u001b[38;5;124;43mmNYQTSTPYYDMIdyGTSEPCQKVNVRQ\u001b[39;49m\u001b[38;5;124;43m'\u001b[39;49m\u001b[43m,\u001b[49m\u001b[38;5;124;43m'\u001b[39;49m\u001b[38;5;124;43mIAARLLPPLYMTDIYLLNLAISDLLFL\u001b[39;49m\u001b[38;5;124;43m'\u001b[39;49m\u001b[43m,\u001b[49m\u001b[43m \u001b[49m\u001b[43mprocedure\u001b[49m\u001b[43m \u001b[49m\u001b[38;5;241;43m=\u001b[39;49m\u001b[43m \u001b[49m\u001b[38;5;124;43m'\u001b[39;49m\u001b[38;5;124;43mconvert_to_nucl_acids\u001b[39;49m\u001b[38;5;124;43m'\u001b[39;49m\u001b[43m,\u001b[49m\u001b[43m \u001b[49m\u001b[43mnucl_acids\u001b[49m\u001b[43m \u001b[49m\u001b[38;5;241;43m=\u001b[39;49m\u001b[43m \u001b[49m\u001b[38;5;124;43m'\u001b[39;49m\u001b[38;5;124;43mbot\u001b[39;49m\u001b[38;5;124;43m'\u001b[39;49m\u001b[43m)\u001b[49m\n",
      "Cell \u001b[0;32mIn[1], line 98\u001b[0m, in \u001b[0;36mrun_protein_tools\u001b[0;34m(*sequences, **kwargs)\u001b[0m\n\u001b[1;32m     54\u001b[0m \u001b[38;5;28;01mdef\u001b[39;00m \u001b[38;5;21mrun_protein_tools\u001b[39m(\u001b[38;5;241m*\u001b[39msequences: \u001b[38;5;28mstr\u001b[39m, \u001b[38;5;241m*\u001b[39m\u001b[38;5;241m*\u001b[39mkwargs: \u001b[38;5;28mstr\u001b[39m):\n\u001b[1;32m     55\u001b[0m \u001b[38;5;250m    \u001b[39m\u001b[38;5;124;03m\"\"\"\u001b[39;00m\n\u001b[1;32m     56\u001b[0m \u001b[38;5;124;03m    Main function to process protein sequence by one of the developed tools.\\n\u001b[39;00m\n\u001b[1;32m     57\u001b[0m \u001b[38;5;124;03m    Run one procedure at a time:\u001b[39;00m\n\u001b[0;32m   (...)\u001b[0m\n\u001b[1;32m     96\u001b[0m \u001b[38;5;124;03m            Please see Readme or desired docstring\u001b[39;00m\n\u001b[1;32m     97\u001b[0m \u001b[38;5;124;03m    \"\"\"\u001b[39;00m\n\u001b[0;32m---> 98\u001b[0m     procedure_arguments, procedure \u001b[38;5;241m=\u001b[39m \u001b[43mprotein_tools\u001b[49m\u001b[38;5;241;43m.\u001b[39;49m\u001b[43mcheck_and_parse_user_input\u001b[49m\u001b[43m(\u001b[49m\u001b[38;5;241;43m*\u001b[39;49m\u001b[43msequences\u001b[49m\u001b[43m,\u001b[49m\u001b[43m \u001b[49m\u001b[38;5;241;43m*\u001b[39;49m\u001b[38;5;241;43m*\u001b[39;49m\u001b[43mkwargs\u001b[49m\u001b[43m)\u001b[49m\n\u001b[1;32m     99\u001b[0m     \u001b[38;5;28;01mreturn\u001b[39;00m protein_tools\u001b[38;5;241m.\u001b[39mPROCEDURES_TO_FUNCTIONS[procedure](\u001b[38;5;241m*\u001b[39m\u001b[38;5;241m*\u001b[39mprocedure_arguments)\n",
      "File \u001b[0;32m~/python/Bioinformatics_starter_pack/src/protein_tools.py:347\u001b[0m, in \u001b[0;36mcheck_and_parse_user_input\u001b[0;34m(*sequences, **kwargs)\u001b[0m\n\u001b[1;32m    345\u001b[0m         \u001b[38;5;28;01mraise\u001b[39;00m \u001b[38;5;167;01mValueError\u001b[39;00m(\u001b[38;5;124m'\u001b[39m\u001b[38;5;124mPlease provide desired type of nucl_acids\u001b[39m\u001b[38;5;124m'\u001b[39m)\n\u001b[1;32m    346\u001b[0m     \u001b[38;5;28;01mif\u001b[39;00m kwargs[\u001b[38;5;124m'\u001b[39m\u001b[38;5;124mnucl_acids\u001b[39m\u001b[38;5;124m'\u001b[39m] \u001b[38;5;129;01mnot\u001b[39;00m \u001b[38;5;129;01min\u001b[39;00m {\u001b[38;5;124m'\u001b[39m\u001b[38;5;124mDNA\u001b[39m\u001b[38;5;124m'\u001b[39m, \u001b[38;5;124m'\u001b[39m\u001b[38;5;124mRNA\u001b[39m\u001b[38;5;124m'\u001b[39m, \u001b[38;5;124m'\u001b[39m\u001b[38;5;124mboth\u001b[39m\u001b[38;5;124m'\u001b[39m}:\n\u001b[0;32m--> 347\u001b[0m         \u001b[38;5;28;01mraise\u001b[39;00m \u001b[38;5;167;01mValueError\u001b[39;00m(\u001b[38;5;124m'\u001b[39m\u001b[38;5;124mInvalid nucl_acids argument\u001b[39m\u001b[38;5;124m'\u001b[39m)\n\u001b[1;32m    348\u001b[0m     procedure_arguments[\u001b[38;5;124m'\u001b[39m\u001b[38;5;124mnucl_acids\u001b[39m\u001b[38;5;124m'\u001b[39m] \u001b[38;5;241m=\u001b[39m kwargs[\u001b[38;5;124m'\u001b[39m\u001b[38;5;124mnucl_acids\u001b[39m\u001b[38;5;124m'\u001b[39m]\n\u001b[1;32m    349\u001b[0m procedure_arguments[\u001b[38;5;124m'\u001b[39m\u001b[38;5;124msequences\u001b[39m\u001b[38;5;124m'\u001b[39m] \u001b[38;5;241m=\u001b[39m sequences\n",
      "\u001b[0;31mValueError\u001b[0m: Invalid nucl_acids argument"
     ]
    }
   ],
   "source": [
    "run_protein_tools('mNYQTSTPYYDMIdyGTSEPCQKVNVRQ','IAARLLPPLYMTDIYLLNLAISDLLFL', procedure = 'convert_to_nucl_acids', nucl_acids = 'bot')"
   ]
  },
  {
   "cell_type": "code",
   "execution_count": 17,
   "id": "40692685-fb32-4e92-a2a0-3af8eddb9093",
   "metadata": {},
   "outputs": [
    {
     "ename": "ValueError",
     "evalue": "Invalid sequence given",
     "output_type": "error",
     "traceback": [
      "\u001b[0;31m---------------------------------------------------------------------------\u001b[0m",
      "\u001b[0;31mValueError\u001b[0m                                Traceback (most recent call last)",
      "Cell \u001b[0;32mIn[17], line 1\u001b[0m\n\u001b[0;32m----> 1\u001b[0m \u001b[43mrun_protein_tools\u001b[49m\u001b[43m(\u001b[49m\u001b[38;5;124;43m'\u001b[39;49m\u001b[38;5;124;43mArg-Arg-Arg\u001b[39;49m\u001b[38;5;124;43m'\u001b[39;49m\u001b[43m,\u001b[49m\u001b[43m \u001b[49m\u001b[38;5;124;43m'\u001b[39;49m\u001b[38;5;124;43mMMMb\u001b[39;49m\u001b[38;5;124;43m'\u001b[39;49m\u001b[43m,\u001b[49m\u001b[43m \u001b[49m\u001b[43mprocedure\u001b[49m\u001b[38;5;241;43m=\u001b[39;49m\u001b[38;5;124;43m'\u001b[39;49m\u001b[38;5;124;43mthree_one_letter_code\u001b[39;49m\u001b[38;5;124;43m'\u001b[39;49m\u001b[43m)\u001b[49m\n",
      "Cell \u001b[0;32mIn[1], line 98\u001b[0m, in \u001b[0;36mrun_protein_tools\u001b[0;34m(*sequences, **kwargs)\u001b[0m\n\u001b[1;32m     54\u001b[0m \u001b[38;5;28;01mdef\u001b[39;00m \u001b[38;5;21mrun_protein_tools\u001b[39m(\u001b[38;5;241m*\u001b[39msequences: \u001b[38;5;28mstr\u001b[39m, \u001b[38;5;241m*\u001b[39m\u001b[38;5;241m*\u001b[39mkwargs: \u001b[38;5;28mstr\u001b[39m):\n\u001b[1;32m     55\u001b[0m \u001b[38;5;250m    \u001b[39m\u001b[38;5;124;03m\"\"\"\u001b[39;00m\n\u001b[1;32m     56\u001b[0m \u001b[38;5;124;03m    Main function to process protein sequence by one of the developed tools.\\n\u001b[39;00m\n\u001b[1;32m     57\u001b[0m \u001b[38;5;124;03m    Run one procedure at a time:\u001b[39;00m\n\u001b[0;32m   (...)\u001b[0m\n\u001b[1;32m     96\u001b[0m \u001b[38;5;124;03m            Please see Readme or desired docstring\u001b[39;00m\n\u001b[1;32m     97\u001b[0m \u001b[38;5;124;03m    \"\"\"\u001b[39;00m\n\u001b[0;32m---> 98\u001b[0m     procedure_arguments, procedure \u001b[38;5;241m=\u001b[39m \u001b[43mprotein_tools\u001b[49m\u001b[38;5;241;43m.\u001b[39;49m\u001b[43mcheck_and_parse_user_input\u001b[49m\u001b[43m(\u001b[49m\u001b[38;5;241;43m*\u001b[39;49m\u001b[43msequences\u001b[49m\u001b[43m,\u001b[49m\u001b[43m \u001b[49m\u001b[38;5;241;43m*\u001b[39;49m\u001b[38;5;241;43m*\u001b[39;49m\u001b[43mkwargs\u001b[49m\u001b[43m)\u001b[49m\n\u001b[1;32m     99\u001b[0m     \u001b[38;5;28;01mreturn\u001b[39;00m protein_tools\u001b[38;5;241m.\u001b[39mPROCEDURES_TO_FUNCTIONS[procedure](\u001b[38;5;241m*\u001b[39m\u001b[38;5;241m*\u001b[39mprocedure_arguments)\n",
      "File \u001b[0;32m~/python/Bioinformatics_starter_pack/src/protein_tools.py:321\u001b[0m, in \u001b[0;36mcheck_and_parse_user_input\u001b[0;34m(*sequences, **kwargs)\u001b[0m\n\u001b[1;32m    319\u001b[0m \u001b[38;5;28;01mif\u001b[39;00m \u001b[38;5;124m'\u001b[39m\u001b[38;5;124m-\u001b[39m\u001b[38;5;124m'\u001b[39m \u001b[38;5;129;01mnot\u001b[39;00m \u001b[38;5;129;01min\u001b[39;00m sequence:\n\u001b[1;32m    320\u001b[0m     \u001b[38;5;28;01mif\u001b[39;00m \u001b[38;5;129;01mnot\u001b[39;00m \u001b[38;5;28mset\u001b[39m(sequence)\u001b[38;5;241m.\u001b[39missubset(allowed_inputs):\n\u001b[0;32m--> 321\u001b[0m        \u001b[38;5;28;01mraise\u001b[39;00m \u001b[38;5;167;01mValueError\u001b[39;00m(\u001b[38;5;124m'\u001b[39m\u001b[38;5;124mInvalid sequence given\u001b[39m\u001b[38;5;124m'\u001b[39m)\n\u001b[1;32m    322\u001b[0m \u001b[38;5;28;01melse\u001b[39;00m:\n\u001b[1;32m    323\u001b[0m     \u001b[38;5;28;01mif\u001b[39;00m procedure \u001b[38;5;241m!=\u001b[39m \u001b[38;5;124m'\u001b[39m\u001b[38;5;124mthree_one_letter_code\u001b[39m\u001b[38;5;124m'\u001b[39m:\n",
      "\u001b[0;31mValueError\u001b[0m: Invalid sequence given"
     ]
    }
   ],
   "source": [
    "run_protein_tools('Arg-Arg-Arg', 'MMMb', procedure='three_one_letter_code')"
   ]
  },
  {
   "cell_type": "code",
   "execution_count": 3,
   "id": "b646b431-66c6-495b-af19-53e50557cc93",
   "metadata": {},
   "outputs": [],
   "source": [
    "part_of_example = {'@SRX079804:1:SRR292678:1:1101:21885:21885': ('ACAGCAACATAAACATGATGGGATGGCGTAAGCCCCCGAGATATCAGTTTACCCAGGATAAGAGATTAAATTATGAGCAACATTATTAA',\n",
    "  'FGGGFGGGFGGGFGDFGCEBB@CCDFDDFFFFBFFGFGEFDFFFF;D@DD>C@DDGGGDFGDGG?GFGFEGFGGEF@FDGGGFGFBGGD'),\n",
    " '@SRX079804:1:SRR292678:1:1101:24563:24563': ('ATTAGCGAGGAGGAGTGCTGAGAAGATGTCGCCTACGCCGTTGAAATTCCCTTCAATCAGGGGGTACTGGAGGATACGAGTTTGTGTG',\n",
    "  'BFFFFFFFB@B@A<@D>BDDACDDDEBEDEFFFBFFFEFFDFFF=CC@DDFD8FFFFFFF8/+.2,@7<<:?B/:<><-><@.A*C>D'),\n",
    " '@SRX079804:1:SRR292678:1:1101:175500:175500': ('GACGCCGTGGCTGCACTATTTGAGGCACCTGTCCTCGAAGGGAAGTTCATCTCGACGCGTGTCACTATGACATGAATG',\n",
    "  'GGGGGFFCFEEEFFDGFBGGGA5DG@5DDCBDDE=GFADDFF5BE49<<<BDD?CE<A<8:59;@C.C9CECBAC=DE')}"
   ]
  },
  {
   "cell_type": "code",
   "execution_count": 4,
   "id": "48b44c93-1a2d-47f6-8d1b-5d8effb89201",
   "metadata": {},
   "outputs": [
    {
     "data": {
      "text/plain": [
       "{'@SRX079804:1:SRR292678:1:1101:175500:175500': ('GACGCCGTGGCTGCACTATTTGAGGCACCTGTCCTCGAAGGGAAGTTCATCTCGACGCGTGTCACTATGACATGAATG',\n",
       "  'GGGGGFFCFEEEFFDGFBGGGA5DG@5DDCBDDE=GFADDFF5BE49<<<BDD?CE<A<8:59;@C.C9CECBAC=DE')}"
      ]
     },
     "execution_count": 4,
     "metadata": {},
     "output_type": "execute_result"
    }
   ],
   "source": [
    "select_fastq(part_of_example, length_bounds=78)"
   ]
  },
  {
   "cell_type": "code",
   "execution_count": 1,
   "id": "c39d4c28-8d90-4a20-979f-913cf76db1b5",
   "metadata": {},
   "outputs": [],
   "source": [
    "import src.dna_rna_tools as dna_rna_tools\n",
    "import src.protein_tools as protein_tools\n",
    "import src.fastq_tools as fastq_tools\n",
    "\n",
    "\n",
    "def run_dna_rna_tools(*seqs: str, func: str) -> list[str]:\n",
    "    \"\"\"\n",
    "    Main function to process nucleotide sequences by one of the developed tools.\\n\n",
    "    Run one procedure at a time:\n",
    "    - Reverse the sequences from 5'-3' direction to 3'-5' and vice versa\n",
    "    - Output the complementary sequences\n",
    "    - Output the complementary sequences in reverse direction\n",
    "    - Translate RNA sequences to DNA and vice versa\n",
    "    - Count the GC-content in the sequences\n",
    "\n",
    "    Arguments:\n",
    "    - *seqs(str): sequences to process\n",
    "    - func(str): the operation of the interest:\n",
    "        - 'transcribe'\n",
    "        - 'reverse'\n",
    "        - 'complement'\n",
    "        - 'reverse_complement'\n",
    "        - 'gc_count'\n",
    "\n",
    "    All of the described func arguments correspond to following functions:\n",
    "    - transcribe(seq)\n",
    "    - reverse(seq)\n",
    "    - complement(seq)\n",
    "    - reverse_complement(seq)\n",
    "    - gc_count(seq: str, gc_counter=0)\n",
    "\n",
    "    All functions except *gc_count* are letter case sensitive\n",
    "\n",
    "    Return:\n",
    "    - list[str]: the result of processing several sequences\n",
    "    - str: the result of processing one sequence\n",
    "\n",
    "    For more details see README\n",
    "    \"\"\"\n",
    "    result = []\n",
    "    if func not in dna_rna_tools.FUNCTIONS_NA:\n",
    "        raise ValueError('Invalid operation!')\n",
    "    for seq in seqs:\n",
    "        if not (dna_rna_tools.is_dna(seq)) and not (dna_rna_tools.is_rna(seq)):\n",
    "            number_seq = seqs.index(seq) + 1\n",
    "            error = 'Sequence of number ' + str(number_seq) + ' is incorrect!'\n",
    "            raise ValueError(error)\n",
    "        result.append(dna_rna_tools.FUNCTIONS_NA[func](seq))\n",
    "    if len(result) == 1:\n",
    "        return result[0]\n",
    "    return result\n",
    "\n",
    "\n",
    "def run_protein_tools(*sequences: str, **kwargs: str):\n",
    "    \"\"\"\n",
    "    Main function to process protein sequence by one of the developed tools.\\n\n",
    "    Run one procedure at a time:\n",
    "    - Search for conserved amino acids residues in protein sequence\n",
    "    - Search for alternative frames in a protein sequences\n",
    "    - Convert protein sequences to RNA or DNA sequences\n",
    "    - Reverse the protein sequences from one-letter to three-letter format and vice-versa\n",
    "    - Define molecular weight of the protein sequences\n",
    "\n",
    "    All functions except *search_for_alt_frames* are letter case sensitive\\n\n",
    "    Provide protein sequence in one letter code.\\n\n",
    "    You can obtain one letter code from three letter code with *three_one_letter_code*\\n\n",
    "    If more information needed please see README or desired docstring\n",
    "\n",
    "    Arguments:\n",
    "    - sequences (str): sequences to process\n",
    "    - procedure (str): desired procedure:\n",
    "        - 'search_for_motifs'\n",
    "        - 'search_for_alt_frames'\n",
    "        - 'convert_to_nucl_acids'\n",
    "        - 'three_one_letter_code'\n",
    "        - 'define_molecular_weight'\n",
    "\n",
    "    For 'search_for_motif' procedure provide:\n",
    "    - motif (str]: desired motif to check presense in every given sequence\\n\n",
    "            Example: motif='GA'\n",
    "    - overlapping (bool): count (True) or skip (False) overlapping matches. (Optional)\\n\n",
    "            Example: overlapping =False\n",
    "\n",
    "    For 'search_for_alt_frames' procedure provide:\n",
    "    - alt_start_aa (str]: the name of an amino acid that is encoded by alternative start codon (Optional)\\n\n",
    "            Example: alt_start_aa='I'\n",
    "\n",
    "    For 'convert_to_nucl_acids' procedure provide:\n",
    "    - nucl_acids (str]: the nucleic acid to convert to\\n\n",
    "            Example: nucl_acids='RNA'\\n\n",
    "                           nucl_acids='DNA'\\n\n",
    "                           nucl_acids='both'\n",
    "\n",
    "    Return:\n",
    "    - dict: Dictionary with processed sequences. Depends on desired tool\\n\n",
    "            Please see Readme or desired docstring\n",
    "    \"\"\"\n",
    "    procedure_arguments, procedure = protein_tools.check_and_parse_user_input(*sequences, **kwargs)\n",
    "    return protein_tools.PROCEDURES_TO_FUNCTIONS[procedure](**procedure_arguments)\n",
    "\n",
    "\n",
    "def select_fastq(seqs: dict, gc_bounds=(0, 100), length_bounds=(0, 2**32), quality_threshold=0) -> dict:\n",
    "    \"\"\"\n",
    "    Main function to select fragmnets in FASTQ format according to three main requirements:\\n\n",
    "    -fall in the range of GC-content bounds\n",
    "   The range of GC-content bounds is determined with gc_bounds argument\n",
    "   \n",
    "    -falls in the range of length bounds\n",
    "    The range of length bounds is determined with length_bounds argument\n",
    "\n",
    "    -exceeds the quality threshold of the interest\n",
    "    The quality threshold is determined with quality_threshold argument\n",
    "\n",
    "    Without full names use arguments in a certain order\n",
    "    Example: select_fastq(seqs, (0,100), (0,200), 0)\n",
    "           # select_fastq(seqs, gc_bounds=(0,100), length_bounds=(0,200), quality_threshold=0)\n",
    "             \n",
    "             \n",
    "    In case of changing only one argument, provide its full name!\n",
    "    Example: select_fastq(seqs, length_bounds=(50, 100))\n",
    "\n",
    "             \n",
    "    Arguments:\n",
    "    \n",
    "    - seqs (dict): the set of fragments to be analyzed\n",
    "    Example: {'name' : ('sequence', 'quality values')}\n",
    "\n",
    "    - gc_bounds(tuple or int or float): contain minimal and maximum GC-content bounds\n",
    "    By default gc_bounds=(0,100)\n",
    "    If input contains one number the function accepts it as a maximum bound\n",
    "    Examples: gc_bounds=(20,40)\n",
    "              gc_bounds=40  # (0,40)\n",
    "\n",
    "    - length_bounds(tuple or int or float): contain minimal and maximum length bounds\n",
    "    By default length_bounds=(0,4294967296)\n",
    "    If input contains one number the function accepts it as a maximum bound\n",
    "    Examples: length_bounds=(10,90)\n",
    "              length_bounds=90  # (0,90)\n",
    "\n",
    "    - quality_threshold(int or float): the quality threshold of the interest\n",
    "    By default quality_threshold=0\n",
    "    Examples: quality_threshold=10\n",
    "\n",
    "    There are three functions that are used in the main function:\n",
    "    \n",
    "    - is_in_gc_bounds(seq, gc_bounds): \n",
    "    Check if the sequence falls in the range of GC-content bounds\n",
    "    \n",
    "    - is_in_length_bounds(seq, length_bounds): \n",
    "    Check if the sequence falls in the range of length bounds\n",
    "    \n",
    "    - is_above_quality_threshold(quality_scores, quality_threshold): \n",
    "    Check if the mean of quality values exceeds the quality threshold\n",
    "    \n",
    "    Return:\n",
    "    - dict: Dictionary with selected fragments\n",
    "    \n",
    "    For more information please see README\n",
    "    \n",
    "    \"\"\"\n",
    "    if type(length_bounds) == int or type(length_bounds) == float:\n",
    "        length_bounds = 0, length_bounds\n",
    "    if type(gc_bounds) == int or type(gc_bounds) == float:\n",
    "        gc_bounds = 0, gc_bounds\n",
    "    result = {}\n",
    "    for name in seqs.keys():\n",
    "        seq = seqs[name][0]\n",
    "        quality_scores = seqs[name][1]\n",
    "        if (\n",
    "                fastq_tools.is_in_gc_bounds(seq, gc_bounds) and\n",
    "                fastq_tools.is_in_length_bounds(seq, length_bounds) and\n",
    "                fastq_tools.is_above_quality_threshold(quality_scores, quality_threshold)):\n",
    "            result[name] = seqs[name]\n",
    "    if len(result) == 0:\n",
    "        return 'There are no sequences suited to requirements'\n",
    "    return result\n"
   ]
  },
  {
   "cell_type": "code",
   "execution_count": null,
   "id": "ee255903-98de-44ba-817a-dfea8ecf56f4",
   "metadata": {},
   "outputs": [],
   "source": []
  }
 ],
 "metadata": {
  "kernelspec": {
   "display_name": "Python 3 (ipykernel)",
   "language": "python",
   "name": "python3"
  },
  "language_info": {
   "codemirror_mode": {
    "name": "ipython",
    "version": 3
   },
   "file_extension": ".py",
   "mimetype": "text/x-python",
   "name": "python",
   "nbconvert_exporter": "python",
   "pygments_lexer": "ipython3",
   "version": "3.11.5"
  }
 },
 "nbformat": 4,
 "nbformat_minor": 5
}
